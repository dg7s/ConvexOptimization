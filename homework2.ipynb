{
 "cells": [
  {
   "cell_type": "markdown",
   "id": "215ef84a",
   "metadata": {},
   "source": [
    "# Maximum probability of loss\n",
    "\n",
    "We are investing in two assets. Let $R_1$ and $R_2$ be the random variables corresponding to the returns. Both $R_1$ and $R_2$ have Gaussian marginal distributions, with known means $\\mu_1=5$ and $\\mu_2=15$ and known standard deviations $\\sigma_1=3$ and $\\sigma_2=10$. Moreover, we are given the correlation coefficient $\\rho=-0.3$, i.e.,$$\\mathbf{E} (R_1-\\mu_1) (R_2-\\mu_2)  = \\rho \\sigma_1 \\sigma_2.$$\n",
    "\n",
    "Use a linear programming solver to find the worst-case (maximum) probability of a loss, i.e, $p^\\mathrm{loss} = \\mathbf{Pr} (R_1+R_2 \\leq 0)$. Compare the results to the case when $R_1$ and $R_2$ are jointly Gaussian.  Then,\n",
    "  \n",
    "  $$R_1+R_2 \\sim \\mathcal N(\\mu_1+\\mu_2,\\sigma_1^2+\\sigma_2^2+2 \\rho \\sigma_1\\sigma_2),$$\n",
    "  \n",
    "  which for our parameters gives $p^\\mathrm{loss} \\approx 0.018$. \n",
    "  \n",
    "This is an infinite-dimensional optimization problem, since you must maximize $p^\\mathrm{loss}$ over an infinite-dimensional set of joint distributions. To (approximately) solve it, we discretize the values that $R_1$ and $R_2$ can take on, to $n=100$ values $r_1,\\ldots, r_n$, uniformly spaced from $r_1=-20$ to $r_n=+50$. \n",
    "We use the discretized marginals $p^{(1)}$ and $p^{(2)}$ for $R_1$ and $R_2$, given by$$p^{(k)}_i =\\mathbf{Pr}(R_k = r_i) =\\frac{ \\exp \\left(-(r_i-\\mu_k)^2/(2 \\sigma_k^2) \\right)}{\\sum_{j=1}^n  \\exp \\left( -(r_j-\\mu_k)^2/(2 \\sigma_k^2) \\right)},$$\n",
    "  for $k=1,2$, $i=1, \\ldots, n$.\n",
    "  \n",
    "  Plot the joint distribution that yields the maximum value of $p^\\mathrm{loss}$ using e.g. ``matplotlib``'s ``contour`` (see the code below for two jointly Gaussian variables). Interpret what you see. \n",
    "  \n",
    "  ---- \n",
    "*This exercise originates from \"Additional Exercises\" collection for Convex Optimization textbook of S. Boyd and L. Vandenberghe. Used under permission*"
   ]
  },
  {
   "cell_type": "code",
   "execution_count": 1,
   "id": "9f14e03b",
   "metadata": {},
   "outputs": [],
   "source": [
    "import numpy as np\n",
    "import math\n",
    "import matplotlib.pyplot as plt"
   ]
  },
  {
   "cell_type": "code",
   "execution_count": 2,
   "id": "0f8cd17b",
   "metadata": {
    "scrolled": true
   },
   "outputs": [],
   "source": [
    "mu = (5.0, 15.0)\n",
    "sigma = (3.0, 10.0)\n",
    "rho = -0.3\n",
    "n = 100\n",
    "r=np.linspace(-20,50,n)"
   ]
  },
  {
   "cell_type": "markdown",
   "id": "6ab44370",
   "metadata": {},
   "source": [
    "Below we create the marginals of the discrete distrubution"
   ]
  },
  {
   "cell_type": "code",
   "execution_count": 3,
   "id": "f9e34974",
   "metadata": {
    "scrolled": true
   },
   "outputs": [
    {
     "data": {
      "text/plain": [
       "[<matplotlib.lines.Line2D at 0x7ba6f82593c0>]"
      ]
     },
     "execution_count": 3,
     "metadata": {},
     "output_type": "execute_result"
    },
    {
     "data": {
      "image/png": "[encoded data removed]",
      "text/plain": [
       "<Figure size 432x216 with 1 Axes>"
      ]
     },
     "metadata": {
      "needs_background": "light"
     },
     "output_type": "display_data"
    }
   ],
   "source": [
    "e = lambda k, i : math.exp(-(r[i]-mu[k])**2 / (2*sigma[k]**2))\n",
    "p_mar = np.zeros((n,n))\n",
    "for k in [0,1]:\n",
    "    sum_exp = sum(e(k,i) for i in range(100))\n",
    "    for i in range(n):\n",
    "        p_mar[k][i] = e(k,i)/sum_exp\n",
    "\n",
    "plt.rcParams['figure.figsize'] = [6, 3]\n",
    "fig = plt.figure()\n",
    "plt.plot(r,p_mar[0], 'g', linewidth=1)\n",
    "plt.plot(r,p_mar[1], 'r', linewidth=1)"
   ]
  },
  {
   "cell_type": "markdown",
   "id": "3f5b6cf5",
   "metadata": {},
   "source": [
    "Let's also draw the joint Gaussian distribution, just for fun."
   ]
  },
  {
   "cell_type": "code",
   "execution_count": 4,
   "id": "dca64389",
   "metadata": {},
   "outputs": [
    {
     "name": "stderr",
     "output_type": "stream",
     "text": [
      "/usr/lib/python3/dist-packages/scipy/__init__.py:146: UserWarning: A NumPy version >=1.17.3 and <1.25.0 is required for this version of SciPy (detected version 1.26.4\n",
      "  warnings.warn(f\"A NumPy version >={np_minversion} and <{np_maxversion}\"\n"
     ]
    },
    {
     "data": {
      "text/plain": [
       "0.018015843109116775"
      ]
     },
     "execution_count": 4,
     "metadata": {},
     "output_type": "execute_result"
    }
   ],
   "source": [
    "#calculate probability of loss\n",
    "from scipy.stats import norm\n",
    "norm.cdf(0, sum(mu), math.sqrt(sigma[0]**2 + sigma[1]**2 + 2*rho*sigma[0]*sigma[1]))"
   ]
  },
  {
   "cell_type": "code",
   "execution_count": 5,
   "id": "2ff87da9",
   "metadata": {},
   "outputs": [
    {
     "data": {
      "text/plain": [
       "[<matplotlib.lines.Line2D at 0x7ba6b560a1d0>]"
      ]
     },
     "execution_count": 5,
     "metadata": {},
     "output_type": "execute_result"
    },
    {
     "data": {
      "image/png": "[encoded data removed]",
      "text/plain": [
       "<Figure size 432x216 with 1 Axes>"
      ]
     },
     "metadata": {
      "needs_background": "light"
     },
     "output_type": "display_data"
    }
   ],
   "source": [
    "from scipy.stats import multivariate_normal\n",
    "\n",
    "# Initializing the covariance matrix\n",
    "cov = np.array([[sigma[0]**2, rho*sigma[0]*sigma[1]], [rho*sigma[0]*sigma[1], sigma[1]**2]])\n",
    "\n",
    "# Generating a Gaussian bivariate distribution\n",
    "# with given mean and covariance matrix\n",
    "distr = multivariate_normal(cov = cov, mean = mu)\n",
    "\n",
    "# Generating a meshgrid complacent with\n",
    "# the 3-sigma boundary\n",
    "X, Y = np.meshgrid(r,r)\n",
    "\n",
    "# Generating the density function\n",
    "# for each point in the meshgrid\n",
    "pdf = np.zeros(X.shape)\n",
    "for i in range(X.shape[0]):\n",
    "    for j in range(X.shape[1]):\n",
    "        pdf[i,j] = distr.pdf([X[i,j], Y[i,j]])\n",
    "\n",
    "plt.axes().set_aspect('equal')\n",
    "plt.contour(X, Y, pdf)\n",
    "plt.plot(r,list(map(lambda x: max(x,-20), -r)),color=\"r\") #R1+R2==0 red line\n"
   ]
  },
  {
   "cell_type": "markdown",
   "id": "0c3f87d9",
   "metadata": {},
   "source": [
    "Above one can see that the two variables are indeed negatively correlated. \n",
    "The region below the red line is the loss event (we see that it is indeed unlikely)"
   ]
  },
  {
   "cell_type": "markdown",
   "id": "5b58de2b",
   "metadata": {},
   "source": [
    "## Solution"
   ]
  },
  {
   "cell_type": "markdown",
   "id": "0ccedbba",
   "metadata": {},
   "source": [
    "Because we interpret $R_1$ and $R_2$ discretely, we have:\n",
    "$$p^\\mathrm{loss} = \\mathbf{Pr} (R_1+R_2 \\leq 0) = \\sum_{\\substack{i,j\\in\\{1,\\ldots,n\\}\\\\ r_i + r_j \\leq 0}} \\mathbf{Pr}(R_1 = r_i, R_2 = r_j)$$\n",
    "Therefore, our objective is to maximize this sum.\n",
    "\n",
    "\n",
    "Let's consider our constraints in our discrete case:$\\\\$\n",
    "At first, we have\n",
    "$$p_i^{(1)} = \\mathbf{Pr}(R_1 = r_i) = \\sum_{j=1}^n \\mathbf{Pr}(R_1 = r_i, R_2 = r_j)\\hspace{3cm} p_i^{(2)} = \\mathbf{Pr}(R_2 = r_i) = \\sum_{j=1}^n \\mathbf{Pr}(R_2 = r_i, R_1 = r_j)$$\n",
    "\n",
    "The next constraint is:\n",
    "\n",
    "\n",
    "$$\\rho \\sigma_1 \\sigma_2  = \\mathbf{E} (R_1-\\mu_1) (R_2-\\mu_2)  = \\sum_{i,j\\in{1,\\ldots,n}} (r_i - \\mu_1)(r_j-\\mu_2)\\cdot\\mathbf{Pr}(R_1 = i, R_2 = j)$$\n",
    "\n",
    "\n",
    "Now, if we consider an $n\\times n$ matrix $P = (p_{ij})$, where $p_{ij} = \\mathbf{Pr}(R_1 = i, R_2 = j)$, we can write constraints as follows:\n",
    "  * $p^{(1)} = P \\cdot 1,\\hspace{3mm} p^{(2)} = P^{T} \\cdot 1$\n",
    "  * $\\rho \\sigma_1 \\sigma_2 = (r - \\mu_1\\cdot 1)^{T}P(r - \\mu_2\\cdot 1)$\n",
    "  * $0 \\preceq P \\preceq 1$"
   ]
  },
  {
   "cell_type": "code",
   "execution_count": 6,
   "id": "8aee0626",
   "metadata": {},
   "outputs": [],
   "source": [
    "# Let x be such a matrix of elements in {0,1} that ||x * p||^2 = (p_loss)\n",
    "x = np.zeros((n, n))\n",
    "\n",
    "for i in range(n):\n",
    "    for j in range(n):\n",
    "        if (r[i] + r[j] <= 0):\n",
    "            x[i, j] = 1"
   ]
  },
  {
   "cell_type": "code",
   "execution_count": 17,
   "id": "15d084d9",
   "metadata": {},
   "outputs": [
    {
     "name": "stdout",
     "output_type": "stream",
     "text": [
      "===============================================================================\n",
      "                                     CVXPY                                     \n",
      "                                     v1.4.2                                    \n",
      "===============================================================================\n",
      "(CVXPY) Apr 26 12:58:14 PM: Your problem has 10000 variables, 4 constraints, and 0 parameters.\n",
      "(CVXPY) Apr 26 12:58:14 PM: It is compliant with the following grammars: DCP, DQCP\n",
      "(CVXPY) Apr 26 12:58:14 PM: (If you need to solve this problem multiple times, but with different data, consider using parameters.)\n",
      "(CVXPY) Apr 26 12:58:14 PM: CVXPY will first compile your problem; then, it will invoke a numerical solver to obtain a solution.\n",
      "(CVXPY) Apr 26 12:58:14 PM: Your problem is compiled with the CPP canonicalization backend.\n",
      "-------------------------------------------------------------------------------\n",
      "                                  Compilation                                  \n",
      "-------------------------------------------------------------------------------\n",
      "(CVXPY) Apr 26 12:58:14 PM: Compiling problem (target solver=GUROBI).\n",
      "(CVXPY) Apr 26 12:58:14 PM: Reduction chain: FlipObjective -> CvxAttr2Constr -> Qp2SymbolicQp -> QpMatrixStuffing -> GUROBI\n",
      "(CVXPY) Apr 26 12:58:14 PM: Applying reduction FlipObjective\n",
      "(CVXPY) Apr 26 12:58:14 PM: Applying reduction CvxAttr2Constr\n",
      "(CVXPY) Apr 26 12:58:14 PM: Applying reduction Qp2SymbolicQp\n",
      "(CVXPY) Apr 26 12:58:14 PM: Applying reduction QpMatrixStuffing\n",
      "(CVXPY) Apr 26 12:58:14 PM: Applying reduction GUROBI\n",
      "(CVXPY) Apr 26 12:58:14 PM: Finished problem compilation (took 2.509e-02 seconds).\n",
      "-------------------------------------------------------------------------------\n",
      "                                Numerical solver                               \n",
      "-------------------------------------------------------------------------------\n",
      "(CVXPY) Apr 26 12:58:14 PM: Invoking solver GUROBI  to obtain a solution.\n",
      "Set parameter QCPDual to value 1\n",
      "Gurobi Optimizer version 11.0.1 build v11.0.1rc0 (linux64 - \"Ubuntu 22.04.4 LTS\")\n",
      "\n",
      "CPU model: Intel(R) Core(TM) i5-8265U CPU @ 1.60GHz, instruction set [SSE2|AVX|AVX2]\n",
      "Thread count: 4 physical cores, 8 logical processors, using up to 8 threads\n",
      "\n",
      "Optimize a model with 20200 rows, 10000 columns and 40000 nonzeros\n",
      "Model fingerprint: 0xe9500d4c\n",
      "Coefficient statistics:\n",
      "  Matrix range     [1e+00, 1e+00]\n",
      "  Objective range  [1e+00, 1e+00]\n",
      "  Bounds range     [0e+00, 0e+00]\n",
      "  RHS range        [1e-50, 1e+00]\n",
      "Presolve removed 20047 rows and 4700 columns\n",
      "Presolve time: 0.02s\n",
      "Presolved: 153 rows, 5300 columns, 10600 nonzeros\n",
      "\n",
      "Concurrent LP optimizer: dual simplex and barrier\n",
      "Showing barrier log only...\n",
      "\n",
      "Ordering time: 0.00s\n",
      "\n",
      "Barrier statistics:\n",
      " AA' NZ     : 5.300e+03\n",
      " Factor NZ  : 8.913e+03 (roughly 2 MB of memory)\n",
      " Factor Ops : 6.370e+05 (less than 1 second per iteration)\n",
      " Threads    : 1\n",
      "\n",
      "Barrier performed 0 iterations in 0.03 seconds (0.01 work units)\n",
      "Barrier solve interrupted - model solved by another algorithm\n",
      "\n",
      "\n",
      "Solved with dual simplex\n",
      "Iteration    Objective       Primal Inf.    Dual Inf.      Time\n",
      "     332   -9.6647686e-02   0.000000e+00   0.000000e+00      0s\n",
      "\n",
      "Solved in 332 iterations and 0.04 seconds (0.02 work units)\n",
      "Optimal objective -9.664768648e-02\n",
      "-------------------------------------------------------------------------------\n",
      "                                    Summary                                    \n",
      "-------------------------------------------------------------------------------\n",
      "(CVXPY) Apr 26 12:58:14 PM: Problem status: optimal\n",
      "(CVXPY) Apr 26 12:58:14 PM: Optimal value: 9.665e-02\n",
      "(CVXPY) Apr 26 12:58:14 PM: Compilation took 2.509e-02 seconds\n",
      "(CVXPY) Apr 26 12:58:14 PM: Solver (including time spent in interface) took 2.289e-01 seconds\n",
      "max p loss 0.09664768648337915\n"
     ]
    }
   ],
   "source": [
    "import cvxpy as cp\n",
    "\n",
    "p = cp.Variable((n, n), name='p')\n",
    "\n",
    "constraints = [p @ np.ones(n) == p_mar[0],\n",
    "               p.T @ np.ones(n) == p_mar[1],\n",
    "               p >= 0,\n",
    "               p <= 1]\n",
    "\n",
    "obj = cp.Maximize(cp.sum(cp.multiply(x, p)))\n",
    "\n",
    "prob = cp.Problem(obj, constraints)\n",
    "prob.solve(verbose=True,solver=cp.GUROBI)\n",
    "print(\"max p loss\", prob.value)"
   ]
  },
  {
   "cell_type": "code",
   "execution_count": 8,
   "id": "2589f305",
   "metadata": {},
   "outputs": [
    {
     "data": {
      "text/plain": [
       "[<matplotlib.lines.Line2D at 0x7ba6b15ec790>]"
      ]
     },
     "execution_count": 8,
     "metadata": {},
     "output_type": "execute_result"
    },
    {
     "data": {
      "image/png": "[encoded data removed]",
      "text/plain": [
       "<Figure size 720x432 with 1 Axes>"
      ]
     },
     "metadata": {
      "needs_background": "light"
     },
     "output_type": "display_data"
    }
   ],
   "source": [
    "plt.figure(figsize=(10, 6))\n",
    "plt.axes().set_aspect('equal')\n",
    "plt.contour(X, Y, p.value)\n",
    "plt.plot(r,list(map(lambda x: max(x,-20), -r)),color=\"r\") #R1+R2==0 red line"
   ]
  },
  {
   "cell_type": "markdown",
   "id": "0c939cf7",
   "metadata": {},
   "source": [
    "# Interpretation\n",
    "\n",
    "We can observe that for $R1 + R2 < 0$, the distribution plot is almost symmetric about the $x=y$ axis for intermediate values. However, for extreme values, we clearly have a higher event density for $R1 \\approx 10$ than $R2 \\approx 10$, as expected from the distributions of $R1$ and $R2$, where $R2$ takes values $(-10, -4)$ with a higher probability than $R1$. Looking at the entire plot, we see that almost the entire distribution of $R1$ lies within the range $(-4, 10)$, consistent with its distribution. The only deviations from this are the elements for $R1 \\approx -10$ and $R1 \\approx 20$. Furthermore, we observe that events where $R1 + R2 < 0$ are close to the axis $R1 + R2 = 0$, which seems intuitive for optimal solutions."
   ]
  }
 ],
 "metadata": {
  "kernelspec": {
   "display_name": "Python 3 (ipykernel)",
   "language": "python",
   "name": "python3"
  },
  "language_info": {
   "codemirror_mode": {
    "name": "ipython",
    "version": 3
   },
   "file_extension": ".py",
   "mimetype": "text/x-python",
   "name": "python",
   "nbconvert_exporter": "python",
   "pygments_lexer": "ipython3",
   "version": "3.10.12"
  }
 },
 "nbformat": 4,
 "nbformat_minor": 5
}
