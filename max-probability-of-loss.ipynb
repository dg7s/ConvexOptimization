{
 "cells": [
  {
   "cell_type": "markdown",
   "id": "215ef84a",
   "metadata": {},
   "source": [
    "# Maximum probability of loss\n",
    "\n",
    "We are investing in two assets. Let $R_1$ and $R_2$ be the random variables corresponding to the returns. Both $R_1$ and $R_2$ have Gaussian marginal distributions, with known means $\\mu_1=5$ and $\\mu_2=15$ and known standard deviations $\\sigma_1=3$ and $\\sigma_2=10$. Moreover, we are given the correlation coefficient $\\rho=-0.3$, i.e.,$$\\mathbf{E} (R_1-\\mu_1) (R_2-\\mu_2)  = \\rho \\sigma_1 \\sigma_2.$$\n",
    "\n",
    "Use a linear programming solver to find the worst-case (maximum) probability of a loss, i.e, $p^\\mathrm{loss} = \\mathbf{Pr} (R_1+R_2 \\leq 0)$. Compare the results to the case when $R_1$ and $R_2$ are jointly Gaussian.  Then,\n",
    "  \n",
    "  $$R_1+R_2 \\sim \\mathcal N(\\mu_1+\\mu_2,\\sigma_1^2+\\sigma_2^2+2 \\rho \\sigma_1\\sigma_2),$$\n",
    "  \n",
    "  which for our parameters gives $p^\\mathrm{loss} \\approx 0.018$. \n",
    "  \n",
    "This is an infinite-dimensional optimization problem, since you must maximize $p^\\mathrm{loss}$ over an infinite-dimensional set of joint distributions. To (approximately) solve it, we discretize the values that $R_1$ and $R_2$ can take on, to $n=100$ values $r_1,\\ldots, r_n$, uniformly spaced from $r_1=-20$ to $r_n=+50$. \n",
    "We use the discretized marginals $p^{(1)}$ and $p^{(2)}$ for $R_1$ and $R_2$, given by$$p^{(k)}_i =\\mathbf{Pr}(R_k = r_i) =\\frac{ \\exp \\left(-(r_i-\\mu_k)^2/(2 \\sigma_k^2) \\right)}{\\sum_{j=1}^n  \\exp \\left( -(r_j-\\mu_k)^2/(2 \\sigma_k^2) \\right)},$$\n",
    "  for $k=1,2$, $i=1, \\ldots, n$.\n",
    "  \n",
    "  Plot the joint distribution that yields the maximum value of $p^\\mathrm{loss}$ using e.g. ``matplotlib``'s ``contour`` (see the code below for two jointly Gaussian variables). Interpret what you see. \n",
    "  \n",
    "  ---- \n",
    "*This exercise originates from \"Additional Exercises\" collection for Convex Optimization textbook of S. Boyd and L. Vandenberghe. Used under permission*"
   ]
  },
  {
   "cell_type": "code",
   "execution_count": 23,
   "id": "9f14e03b",
   "metadata": {},
   "outputs": [],
   "source": [
    "import numpy as np\n",
    "import math\n",
    "import matplotlib.pyplot as plt"
   ]
  },
  {
   "cell_type": "code",
   "execution_count": 24,
   "id": "0f8cd17b",
   "metadata": {
    "scrolled": true
   },
   "outputs": [],
   "source": [
    "mu = (5, 15)\n",
    "sigma = (3, 10)\n",
    "rho = -0.3\n",
    "n = 100\n",
    "r=np.linspace(-20,50,n)"
   ]
  },
  {
   "cell_type": "markdown",
   "id": "6ab44370",
   "metadata": {},
   "source": [
    "Below we create the marginals of the discrete distrubution"
   ]
  },
  {
   "cell_type": "code",
   "execution_count": 25,
   "id": "f9e34974",
   "metadata": {
    "scrolled": true
   },
   "outputs": [
    {
     "data": {
      "text/plain": [
       "[<matplotlib.lines.Line2D at 0x7471d0fc8880>]"
      ]
     },
     "execution_count": 25,
     "metadata": {},
     "output_type": "execute_result"
    },
    {
     "data": {
      "image/png": "[encoded data removed]",
      "text/plain": [
       "<Figure size 432x216 with 1 Axes>"
      ]
     },
     "metadata": {
      "needs_background": "light"
     },
     "output_type": "display_data"
    }
   ],
   "source": [
    "e = lambda k, i : math.exp(-(r[i]-mu[k])**2 / (2*sigma[k]**2))\n",
    "p_mar = np.zeros((n,n))\n",
    "for k in [0,1]:\n",
    "    sum_exp = sum(e(k,i) for i in range(100))\n",
    "    for i in range(n):\n",
    "        p_mar[k][i] = e(k,i)/sum_exp\n",
    "\n",
    "plt.rcParams['figure.figsize'] = [6, 3]\n",
    "fig = plt.figure()\n",
    "plt.plot(r,p_mar[0], 'g', linewidth=1)\n",
    "plt.plot(r,p_mar[1], 'r', linewidth=1)"
   ]
  },
  {
   "cell_type": "markdown",
   "id": "3f5b6cf5",
   "metadata": {},
   "source": [
    "Let's also draw the joint Gaussian distribution, just for fun."
   ]
  },
  {
   "cell_type": "code",
   "execution_count": 26,
   "id": "dca64389",
   "metadata": {},
   "outputs": [
    {
     "data": {
      "text/plain": [
       "0.018015843109116775"
      ]
     },
     "execution_count": 26,
     "metadata": {},
     "output_type": "execute_result"
    }
   ],
   "source": [
    "#calculate probability of loss\n",
    "from scipy.stats import norm\n",
    "norm.cdf(0, sum(mu), math.sqrt(sigma[0]**2 + sigma[1]**2 + 2*rho*sigma[0]*sigma[1]))"
   ]
  },
  {
   "cell_type": "code",
   "execution_count": 27,
   "id": "2ff87da9",
   "metadata": {},
   "outputs": [
    {
     "data": {
      "text/plain": [
       "[<matplotlib.lines.Line2D at 0x7471d0e89870>]"
      ]
     },
     "execution_count": 27,
     "metadata": {},
     "output_type": "execute_result"
    },
    {
     "data": {
      "image/png": "[encoded data removed]",
      "text/plain": [
       "<Figure size 432x216 with 1 Axes>"
      ]
     },
     "metadata": {
      "needs_background": "light"
     },
     "output_type": "display_data"
    }
   ],
   "source": [
    "from scipy.stats import multivariate_normal\n",
    "\n",
    "# Initializing the covariance matrix\n",
    "cov = np.array([[sigma[0]**2, rho*sigma[0]*sigma[1]], [rho*sigma[0]*sigma[1], sigma[1]**2]])\n",
    "\n",
    "# Generating a Gaussian bivariate distribution\n",
    "# with given mean and covariance matrix\n",
    "distr = multivariate_normal(cov = cov, mean = mu)\n",
    "\n",
    "# Generating a meshgrid complacent with\n",
    "# the 3-sigma boundary\n",
    "X, Y = np.meshgrid(r,r)\n",
    "\n",
    "# Generating the density function\n",
    "# for each point in the meshgrid\n",
    "pdf = np.zeros(X.shape)\n",
    "for i in range(X.shape[0]):\n",
    "    for j in range(X.shape[1]):\n",
    "        pdf[i,j] = distr.pdf([X[i,j], Y[i,j]])\n",
    "\n",
    "plt.axes().set_aspect('equal')\n",
    "plt.contour(X, Y, pdf)\n",
    "plt.plot(r,list(map(lambda x: max(x,-20), -r)),color=\"r\") #R1+R2==0 red line\n"
   ]
  },
  {
   "cell_type": "markdown",
   "id": "0c3f87d9",
   "metadata": {},
   "source": [
    "Above one can see that the two variables are indeed negatively correlated. \n",
    "The region below the red line is the loss event (we see that it is indeed unlikely)"
   ]
  },
  {
   "cell_type": "markdown",
   "id": "5b58de2b",
   "metadata": {},
   "source": [
    "## Solution"
   ]
  },
  {
   "cell_type": "markdown",
   "id": "0ccedbba",
   "metadata": {},
   "source": [
    "Because we interpret $R_1$ and $R_2$ discretely, we have:\n",
    "$$p^\\mathrm{loss} = \\mathbf{Pr} (R_1+R_2 \\leq 0) = \\sum_{\\substack{i,j\\in\\{1,\\ldots,n\\}\\\\ r_i + r_j \\leq 0}} \\mathbf{Pr}(R_1 = r_i, R_2 = r_j)$$\n",
    "Therefore, our objective is to maximize this sum.\n",
    "\n",
    "\n",
    "Let's consider our constraints in our discrete case:$\\\\$\n",
    "At first, we have\n",
    "$$p_i^{(1)} = \\mathbf{Pr}(R_1 = r_i) = \\sum_{j=1}^n \\mathbf{Pr}(R_1 = r_i, R_2 = r_j)\\hspace{3cm} p_i^{(2)} = \\mathbf{Pr}(R_2 = r_i) = \\sum_{j=1}^n \\mathbf{Pr}(R_2 = r_i, R_1 = r_j)$$\n",
    "\n",
    "The next constraint is:\n",
    "\n",
    "\n",
    "$$\\rho \\sigma_1 \\sigma_2  = \\mathbf{E} (R_1-\\mu_1) (R_2-\\mu_2)  = \\sum_{i,j\\in{1,\\ldots,n}} (r_i - \\mu_1)(r_j-\\mu_2)\\cdot\\mathbf{Pr}(R_1 = i, R_2 = j)$$\n",
    "\n",
    "\n",
    "Now, if we consider an $n\\times n$ matrix $P = (p_{ij})$, where $p_{ij} = \\mathbf{Pr}(R_1 = i, R_2 = j)$, we can write constraints as follows:\n",
    "  * $p^{(1)} = P \\cdot 1,\\hspace{3mm} p^{(2)} = P^{T} \\cdot 1$\n",
    "  * $\\rho \\sigma_1 \\sigma_2 = (r - \\mu_1\\cdot 1)^{T}P(r - \\mu_2\\cdot 1)$\n",
    "  * $0 \\preceq P \\preceq 1$"
   ]
  },
  {
   "cell_type": "code",
   "execution_count": 28,
   "id": "8aee0626",
   "metadata": {},
   "outputs": [],
   "source": [
    "# Let x be such a matrix of elements in {0,1} that ||x * p|| = (p_loss)^2\n",
    "x = np.zeros((n, n))\n",
    "\n",
    "for i in range(n):\n",
    "    for j in range(n):\n",
    "        if (r[i] + r[j] <= 0):\n",
    "            x[i, j] = 1"
   ]
  },
  {
   "cell_type": "code",
   "execution_count": 39,
   "id": "8f129ba0",
   "metadata": {},
   "outputs": [
    {
     "data": {
      "text/plain": [
       "(100,)"
      ]
     },
     "execution_count": 39,
     "metadata": {},
     "output_type": "execute_result"
    }
   ],
   "source": [
    "r.shape"
   ]
  },
  {
   "cell_type": "code",
   "execution_count": 43,
   "id": "8cbabe56",
   "metadata": {},
   "outputs": [
    {
     "data": {
      "text/plain": [
       "(1, 100)"
      ]
     },
     "execution_count": 43,
     "metadata": {},
     "output_type": "execute_result"
    }
   ],
   "source": [
    "((r - mu[0])[:, np.newaxis]).T.shape"
   ]
  },
  {
   "cell_type": "code",
   "execution_count": 56,
   "id": "37d24bb6",
   "metadata": {},
   "outputs": [
    {
     "data": {
      "text/plain": [
       "(100,)"
      ]
     },
     "execution_count": 56,
     "metadata": {},
     "output_type": "execute_result"
    }
   ],
   "source": [
    "(r-mu[0]).shape"
   ]
  },
  {
   "cell_type": "code",
   "execution_count": 59,
   "id": "25316a01",
   "metadata": {},
   "outputs": [],
   "source": [
    "p_help  = np.ones((n, n))"
   ]
  },
  {
   "cell_type": "code",
   "execution_count": 66,
   "id": "976574ac",
   "metadata": {},
   "outputs": [
    {
     "data": {
      "text/plain": [
       "array([-25.        , -24.29292929, -23.58585859, -22.87878788,\n",
       "       -22.17171717, -21.46464646, -20.75757576, -20.05050505,\n",
       "       -19.34343434, -18.63636364, -17.92929293, -17.22222222,\n",
       "       -16.51515152, -15.80808081, -15.1010101 , -14.39393939,\n",
       "       -13.68686869, -12.97979798, -12.27272727, -11.56565657,\n",
       "       -10.85858586, -10.15151515,  -9.44444444,  -8.73737374,\n",
       "        -8.03030303,  -7.32323232,  -6.61616162,  -5.90909091,\n",
       "        -5.2020202 ,  -4.49494949,  -3.78787879,  -3.08080808,\n",
       "        -2.37373737,  -1.66666667,  -0.95959596,  -0.25252525,\n",
       "         0.45454545,   1.16161616,   1.86868687,   2.57575758,\n",
       "         3.28282828,   3.98989899,   4.6969697 ,   5.4040404 ,\n",
       "         6.11111111,   6.81818182,   7.52525253,   8.23232323,\n",
       "         8.93939394,   9.64646465,  10.35353535,  11.06060606,\n",
       "        11.76767677,  12.47474747,  13.18181818,  13.88888889,\n",
       "        14.5959596 ,  15.3030303 ,  16.01010101,  16.71717172,\n",
       "        17.42424242,  18.13131313,  18.83838384,  19.54545455,\n",
       "        20.25252525,  20.95959596,  21.66666667,  22.37373737,\n",
       "        23.08080808,  23.78787879,  24.49494949,  25.2020202 ,\n",
       "        25.90909091,  26.61616162,  27.32323232,  28.03030303,\n",
       "        28.73737374,  29.44444444,  30.15151515,  30.85858586,\n",
       "        31.56565657,  32.27272727,  32.97979798,  33.68686869,\n",
       "        34.39393939,  35.1010101 ,  35.80808081,  36.51515152,\n",
       "        37.22222222,  37.92929293,  38.63636364,  39.34343434,\n",
       "        40.05050505,  40.75757576,  41.46464646,  42.17171717,\n",
       "        42.87878788,  43.58585859,  44.29292929,  45.        ])"
      ]
     },
     "execution_count": 66,
     "metadata": {},
     "output_type": "execute_result"
    }
   ],
   "source": [
    "r-mu[0]"
   ]
  },
  {
   "cell_type": "code",
   "execution_count": 80,
   "id": "2e447ef9",
   "metadata": {},
   "outputs": [
    {
     "data": {
      "text/plain": [
       "0.0"
      ]
     },
     "execution_count": 80,
     "metadata": {},
     "output_type": "execute_result"
    }
   ],
   "source": [
    "((r - mu[0]).T @ p_help) @ (r - mu[1])"
   ]
  },
  {
   "cell_type": "code",
   "execution_count": 81,
   "id": "15d084d9",
   "metadata": {},
   "outputs": [
    {
     "name": "stdout",
     "output_type": "stream",
     "text": [
      "===============================================================================\n",
      "                                     CVXPY                                     \n",
      "                                     v1.4.2                                    \n",
      "===============================================================================\n",
      "(CVXPY) Apr 25 10:06:03 PM: Your problem has 10000 variables, 5 constraints, and 0 parameters.\n",
      "(CVXPY) Apr 25 10:06:03 PM: It is compliant with the following grammars: DCP, DQCP\n",
      "(CVXPY) Apr 25 10:06:03 PM: (If you need to solve this problem multiple times, but with different data, consider using parameters.)\n",
      "(CVXPY) Apr 25 10:06:03 PM: CVXPY will first compile your problem; then, it will invoke a numerical solver to obtain a solution.\n",
      "(CVXPY) Apr 25 10:06:03 PM: Your problem is compiled with the CPP canonicalization backend.\n",
      "-------------------------------------------------------------------------------\n",
      "                                  Compilation                                  \n",
      "-------------------------------------------------------------------------------\n",
      "(CVXPY) Apr 25 10:06:03 PM: Compiling problem (target solver=GUROBI).\n",
      "(CVXPY) Apr 25 10:06:03 PM: Reduction chain: FlipObjective -> CvxAttr2Constr -> Qp2SymbolicQp -> QpMatrixStuffing -> GUROBI\n",
      "(CVXPY) Apr 25 10:06:03 PM: Applying reduction FlipObjective\n",
      "(CVXPY) Apr 25 10:06:03 PM: Applying reduction CvxAttr2Constr\n",
      "(CVXPY) Apr 25 10:06:03 PM: Applying reduction Qp2SymbolicQp\n",
      "(CVXPY) Apr 25 10:06:03 PM: Applying reduction QpMatrixStuffing\n",
      "(CVXPY) Apr 25 10:06:03 PM: Applying reduction GUROBI\n",
      "(CVXPY) Apr 25 10:06:03 PM: Finished problem compilation (took 3.062e-02 seconds).\n",
      "-------------------------------------------------------------------------------\n",
      "                                Numerical solver                               \n",
      "-------------------------------------------------------------------------------\n",
      "(CVXPY) Apr 25 10:06:03 PM: Invoking solver GUROBI  to obtain a solution.\n",
      "Set parameter QCPDual to value 1\n",
      "Gurobi Optimizer version 11.0.1 build v11.0.1rc0 (linux64 - \"Ubuntu 22.04.4 LTS\")\n",
      "\n",
      "CPU model: Intel(R) Core(TM) i5-8265U CPU @ 1.60GHz, instruction set [SSE2|AVX|AVX2]\n",
      "Thread count: 4 physical cores, 8 logical processors, using up to 8 threads\n",
      "\n",
      "Optimize a model with 20201 rows, 10000 columns and 50000 nonzeros\n",
      "Model fingerprint: 0x009faddd\n",
      "Coefficient statistics:\n",
      "  Matrix range     [9e-02, 2e+03]\n",
      "  Objective range  [1e+00, 1e+00]\n",
      "  Bounds range     [0e+00, 0e+00]\n",
      "  RHS range        [1e-50, 9e+00]\n",
      "Presolve removed 20047 rows and 4600 columns\n",
      "Presolve time: 0.02s\n",
      "Presolved: 154 rows, 5400 columns, 16100 nonzeros\n",
      "\n",
      "Concurrent LP optimizer: dual simplex and barrier\n",
      "Showing barrier log only...\n",
      "\n",
      "Ordering time: 0.00s\n",
      "\n",
      "Barrier statistics:\n",
      " AA' NZ     : 5.453e+03\n",
      " Factor NZ  : 9.108e+03 (roughly 2 MB of memory)\n",
      " Factor Ops : 6.625e+05 (less than 1 second per iteration)\n",
      " Threads    : 1\n",
      "\n",
      "                  Objective                Residual\n",
      "Iter       Primal          Dual         Primal    Dual     Compl     Time\n",
      "   0  -2.73010344e+01 -1.66593677e-02  9.50e+00 8.06e-01  4.54e-02     0s\n",
      "   1  -9.98425921e+00 -7.59222955e-01  3.26e+00 1.05e-01  1.36e-02     0s\n",
      "   2  -1.53938932e-01 -8.76925311e-01  4.59e-02 1.55e-15  2.69e-04     0s\n",
      "   3  -5.41031561e-02 -3.12682384e-01  8.66e-03 1.33e-15  5.56e-05     0s\n",
      "   4  -5.66438876e-02 -2.07360170e-01  6.52e-04 1.44e-15  1.61e-05     0s\n",
      "   5  -7.45308506e-02 -1.59607830e-01  2.29e-04 1.78e-15  8.54e-06     0s\n",
      "\n",
      "Barrier performed 5 iterations in 0.05 seconds (0.02 work units)\n",
      "Barrier solve interrupted - model solved by another algorithm\n",
      "\n",
      "\n",
      "Solved with dual simplex\n",
      "Iteration    Objective       Primal Inf.    Dual Inf.      Time\n",
      "     599   -9.6648578e-02   0.000000e+00   0.000000e+00      0s\n",
      "\n",
      "Solved in 599 iterations and 0.06 seconds (0.04 work units)\n",
      "Optimal objective -9.664857784e-02\n",
      "-------------------------------------------------------------------------------\n",
      "                                    Summary                                    \n",
      "-------------------------------------------------------------------------------\n",
      "(CVXPY) Apr 25 10:06:03 PM: Problem status: optimal\n",
      "(CVXPY) Apr 25 10:06:03 PM: Optimal value: 9.665e-02\n",
      "(CVXPY) Apr 25 10:06:03 PM: Compilation took 3.062e-02 seconds\n",
      "(CVXPY) Apr 25 10:06:03 PM: Solver (including time spent in interface) took 2.543e-01 seconds\n",
      "max p loss 0.09664857784435248\n"
     ]
    }
   ],
   "source": [
    "import cvxpy as cp\n",
    "\n",
    "indexes = []\n",
    "for i in range(len(r)):\n",
    "    for j in range(len(r)):\n",
    "        if r[i] + r[j] <= 0:\n",
    "            indexes.append((i, j))\n",
    "\n",
    "p = cp.Variable((n, n), name='p')\n",
    "\n",
    "constraints = [p @ np.ones(n) == p_mar[0],\n",
    "               p.T @ np.ones(n) == p_mar[1],\n",
    "               (r - mu[0]).T @ (p @ (r - mu[1])) == rho * sigma[0] * sigma[1],\n",
    "               p >= 0,\n",
    "               p <= 1]\n",
    "\n",
    "\n",
    "obj = cp.Maximize(cp.sum(cp.multiply(x, p)))\n",
    "\n",
    "prob = cp.Problem(obj, constraints)\n",
    "prob.solve(verbose=True,solver=cp.GUROBI)\n",
    "print(\"max p loss\", prob.value)"
   ]
  },
  {
   "cell_type": "code",
   "execution_count": 9,
   "id": "2589f305",
   "metadata": {},
   "outputs": [
    {
     "data": {
      "text/plain": [
       "[<matplotlib.lines.Line2D at 0x7471d11c9450>]"
      ]
     },
     "execution_count": 9,
     "metadata": {},
     "output_type": "execute_result"
    },
    {
     "data": {
      "image/png": "[encoded data removed]",
      "text/plain": [
       "<Figure size 720x432 with 1 Axes>"
      ]
     },
     "metadata": {
      "needs_background": "light"
     },
     "output_type": "display_data"
    }
   ],
   "source": [
    "plt.figure(figsize=(10, 6))\n",
    "plt.axes().set_aspect('equal')\n",
    "plt.contour(X, Y, p.value)\n",
    "plt.plot(r,list(map(lambda x: max(x,-20), -r)),color=\"r\") #R1+R2==0 red line"
   ]
  },
  {
   "cell_type": "markdown",
   "id": "0c939cf7",
   "metadata": {},
   "source": [
    "# Interpretation\n",
    "\n",
    "We can observe that for $R1 + R2 < 0$, the distribution plot is almost symmetric about the $x=y$ axis for intermediate values. However, for extreme values, we clearly have a higher event density for $R1 \\approx 10$ than $R2 \\approx 10$, as expected from the distributions of $R1$ and $R2$, where $R2$ takes values $(-10, -4)$ with a higher probability than $R1$. Looking at the entire plot, we see that almost the entire distribution of $R1$ lies within the range $(-4, 10)$, consistent with its distribution. The only deviations from this are the elements for $R1 \\approx -10$ and $R1 \\approx 20$. Furthermore, we observe that events where $R1 + R2 < 0$ are close to the axis $R1 + R2 = 0$, which seems intuitive for optimal solutions."
   ]
  }
 ],
 "metadata": {
  "kernelspec": {
   "display_name": "Python 3 (ipykernel)",
   "language": "python",
   "name": "python3"
  },
  "language_info": {
   "codemirror_mode": {
    "name": "ipython",
    "version": 3
   },
   "file_extension": ".py",
   "mimetype": "text/x-python",
   "name": "python",
   "nbconvert_exporter": "python",
   "pygments_lexer": "ipython3",
   "version": "3.10.12"
  }
 },
 "nbformat": 4,
 "nbformat_minor": 5
}
