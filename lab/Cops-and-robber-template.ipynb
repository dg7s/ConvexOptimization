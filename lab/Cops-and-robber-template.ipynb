{
 "cells": [
  {
   "cell_type": "markdown",
   "id": "722c9292",
   "metadata": {},
   "source": [
    "# Cops and robber in a DAG\n",
    "\n",
    "You are given a directed acyclic graph (DAG) $G$ with $n$ vertices and $m$ edges, a number $B$ and real vectors $x^{\\text{max}}\\in \\mathbb{R}^m$, $a\\in \\mathbb{R}^m$. A robber wants to get from vertex 1 to vertex $n$. The cops want to prevent it, by assigning $x_e \\in [0, x^{\\text{max}}_e]$ of resources to every edge $e\\in E(G)$. Then, the probability that the robber safely goes through any edge $e$ is $\\exp(-a_ex_e)$, independently for every edge. Moreover, $B$ is the upper bound on the total amount of cops' resources, i.e., $\\sum_e x_e \\le B$. Find the assignment of resources that minimizes $p^\\star$, where $p^\\star$ is the maximum probability that the robber travels safely from 1 to $n$, over all paths in the DAG. Compare $p^\\star$ with the probability obtained for the uniform distribution of police's resources.\n",
    "\n",
    "(This exercise is inspired by the collection *Additional Exercises for Convex Optimization* by Boyd and Vandenberghe, used under permission.)"
   ]
  },
  {
   "cell_type": "code",
   "execution_count": 47,
   "id": "9dcaee62",
   "metadata": {},
   "outputs": [],
   "source": [
    "import numpy as np"
   ]
  },
  {
   "cell_type": "code",
   "execution_count": 48,
   "id": "9aea0ad6",
   "metadata": {},
   "outputs": [
    {
     "data": {
      "text/plain": [
       "array([[0, 1],\n",
       "       [0, 2],\n",
       "       [0, 3],\n",
       "       [1, 5],\n",
       "       [1, 2],\n",
       "       [1, 3],\n",
       "       [2, 4],\n",
       "       [2, 5],\n",
       "       [3, 5],\n",
       "       [3, 6],\n",
       "       [4, 7],\n",
       "       [4, 6],\n",
       "       [5, 6],\n",
       "       [5, 7],\n",
       "       [6, 7],\n",
       "       [6, 8],\n",
       "       [7, 8],\n",
       "       [6, 9],\n",
       "       [7, 9],\n",
       "       [8, 9]])"
      ]
     },
     "execution_count": 48,
     "metadata": {},
     "output_type": "execute_result"
    }
   ],
   "source": [
    "np.random.seed(123)\n",
    "n = 10\n",
    "m = 20\n",
    "B = m / 2\n",
    "edges = np.array([[1,1,1,2,2,2,3,3,4,4,5,5,6,6,7,7,8,7,8,9],[2,3,4,6,3,4,5,6,6,7,8,7,7,8,8,9,9,10,10,10]]).T-1\n",
    "edges"
   ]
  },
  {
   "cell_type": "code",
   "execution_count": 49,
   "id": "bab08e33",
   "metadata": {},
   "outputs": [
    {
     "data": {
      "image/png": "[encoded data removed]",
      "text/plain": [
       "<Figure size 432x288 with 1 Axes>"
      ]
     },
     "metadata": {},
     "output_type": "display_data"
    }
   ],
   "source": [
    "import networkx as nx\n",
    "from matplotlib import pyplot as plt\n",
    "G = nx.DiGraph()\n",
    "G.add_edges_from(edges)\n",
    "\n",
    "for layer, nodes in enumerate(nx.topological_generations(G)):\n",
    "    # `multipartite_layout` expects the layer as a node attribute, so add the\n",
    "    # numeric layer value as a node attribute\n",
    "    for node in nodes:\n",
    "        G.nodes[node][\"layer\"] = layer\n",
    "\n",
    "# Compute the multipartite_layout using the \"layer\" node attribute\n",
    "pos = nx.multipartite_layout(G, subset_key=\"layer\")\n",
    "\n",
    "fig, ax = plt.subplots()\n",
    "nx.draw_networkx(G, pos=pos, ax=ax)\n",
    "ax.set_title(\"DAG layout in topological order\")\n",
    "fig.tight_layout()\n",
    "plt.show()"
   ]
  },
  {
   "cell_type": "code",
   "execution_count": 50,
   "id": "c79d4313",
   "metadata": {},
   "outputs": [
    {
     "data": {
      "text/plain": [
       "array([1.63440096, 1.84943179, 1.72445532, 1.61102351, 1.72244338,\n",
       "       1.32295891, 1.36178866, 1.22826323, 1.29371405, 1.63097612,\n",
       "       1.09210494, 1.43370117, 1.43086276, 1.4936851 , 1.42583029,\n",
       "       1.31226122, 1.42635131, 1.89338916, 1.94416002, 1.50183668])"
      ]
     },
     "execution_count": 50,
     "metadata": {},
     "output_type": "execute_result"
    }
   ],
   "source": [
    "a = 2 * np.random.rand(m)\n",
    "x_max = 1 + np.random.rand(m)\n",
    "x_max"
   ]
  },
  {
   "cell_type": "code",
   "execution_count": 51,
   "metadata": {},
   "outputs": [
    {
     "data": {
      "text/plain": [
       "array([0, 1, 2, 3, 4, 5, 6, 7, 8, 9])"
      ]
     },
     "execution_count": 51,
     "metadata": {},
     "output_type": "execute_result"
    }
   ],
   "source": [
    "topological_order = np.array(list(nx.topological_sort(G)))\n",
    "topological_order"
   ]
  },
  {
   "cell_type": "code",
   "execution_count": 52,
   "id": "2900fd22",
   "metadata": {},
   "outputs": [
    {
     "name": "stdout",
     "output_type": "stream",
     "text": [
      "Gurobi Optimizer version 11.0.1 build v11.0.1rc0 (linux64 - \"Ubuntu 22.04.4 LTS\")\n",
      "\n",
      "CPU model: Intel(R) Core(TM) i5-8265U CPU @ 1.60GHz, instruction set [SSE2|AVX|AVX2]\n",
      "Thread count: 4 physical cores, 8 logical processors, using up to 8 threads\n",
      "\n",
      "Optimize a model with 21 rows, 29 columns and 77 nonzeros\n",
      "Model fingerprint: 0xe344b437\n",
      "Coefficient statistics:\n",
      "  Matrix range     [1e-01, 2e+00]\n",
      "  Objective range  [1e+00, 1e+00]\n",
      "  Bounds range     [1e+00, 2e+00]\n",
      "  RHS range        [1e+01, 1e+01]\n",
      "Presolve removed 8 rows and 3 columns\n",
      "Presolve time: 0.00s\n",
      "Presolved: 13 rows, 26 columns, 85 nonzeros\n",
      "\n",
      "Iteration    Objective       Primal Inf.    Dual Inf.      Time\n",
      "       0      handle free variables                          0s\n",
      "      15   -2.2950812e+00   0.000000e+00   0.000000e+00      0s\n",
      "\n",
      "Solved in 15 iterations and 0.01 seconds (0.00 work units)\n",
      "Optimal objective -2.295081233e+00\n",
      "Final probability 0.1007532084823226\n"
     ]
    }
   ],
   "source": [
    "import gurobipy as gp\n",
    "from gurobipy import GRB\n",
    "\n",
    "\n",
    "model = gp.Model(\"Cops-and-robber\")\n",
    "\n",
    "\n",
    "x = {}\n",
    "for i in range(m):\n",
    "    x[i] = model.addVar(ub=x_max[i], name=f\"x_({i})\")\n",
    "\n",
    "\n",
    "v = {}\n",
    "v[0] = 0 # log(1) = 0\n",
    "for i in range(1,n):\n",
    "    v[i] = model.addVar(lb=-GRB.INFINITY ,name=f\"v_{i}\")\n",
    "\n",
    "\n",
    "model.addConstr(gp.quicksum(x[i] for i in range(m)) <= B)\n",
    "model.addConstrs( v[edges[i][1]] >= -a[i] * x[i] + v[edges[i][0]] for i in range(m))\n",
    "\n",
    "\n",
    "model.setObjective(v[n-1], GRB.MINIMIZE)\n",
    "\n",
    "\n",
    "model.optimize()\n",
    "print(f\"Final probability {np.exp(v[n-1].X)}\")"
   ]
  },
  {
   "cell_type": "markdown",
   "id": "3a151679",
   "metadata": {},
   "source": [
    "Uniform distribution of police's recources."
   ]
  },
  {
   "cell_type": "code",
   "execution_count": 70,
   "id": "c9c26d52",
   "metadata": {},
   "outputs": [
    {
     "name": "stdout",
     "output_type": "stream",
     "text": [
      "Uniform probability 0\n"
     ]
    }
   ],
   "source": [
    "x_uni = {}\n",
    "v_uni = {}\n",
    "\n",
    "for i in range(m):\n",
    "    x_uni[i] = B/m\n",
    "\n",
    "for i in range(n):\n",
    "    v_uni[i] = 0\n",
    "\n",
    "\n",
    "for i in range(m):\n",
    "    v_uni[edges[i][1]] = max(v_uni[edges[i][1]], np.exp(-a[i] * x_uni[i]) * v_uni[edges[i][0]])\n",
    "\n",
    "print(f\"Uniform probability {v_uni[n-1]}\")"
   ]
  }
 ],
 "metadata": {
  "kernelspec": {
   "display_name": "Python 3 (ipykernel)",
   "language": "python",
   "name": "python3"
  },
  "language_info": {
   "codemirror_mode": {
    "name": "ipython",
    "version": 3
   },
   "file_extension": ".py",
   "mimetype": "text/x-python",
   "name": "python",
   "nbconvert_exporter": "python",
   "pygments_lexer": "ipython3",
   "version": "3.10.12"
  }
 },
 "nbformat": 4,
 "nbformat_minor": 5
}
