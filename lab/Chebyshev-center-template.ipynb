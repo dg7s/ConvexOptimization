{
 "cells": [
  {
   "cell_type": "markdown",
   "id": "80538c41",
   "metadata": {},
   "source": [
    "# Chebyshev center of a polyhedron\n",
    "\n",
    "Consider the problem of finding the largest Euclidean ball that lies inside a polyhedron\n",
    "\t\t$$P = \\{x \\in \\mathbb{R}^n \\mid a_i^T x \\le b_i, i=1,\\ldots,m\\}. $$\n",
    "        \n",
    "In the lecture, we showed that it can be modelled by the following LP:\n",
    "\n",
    "$$\\begin{array}{ll@{\\quad}l}\n",
    "\\text{maximize}  & r &\\\\\n",
    "\\text{subject to}& a_i^Tx_c+r\\|a_i\\|_2 \\le b_i & \\text{for $i=1,\\ldots,m$}\n",
    "\\end{array}$$\n",
    "\n",
    "Code this model in Gurobi. Then test it in 2D so that it finds the center of a polygon given by a list of vertices."
   ]
  },
  {
   "cell_type": "markdown",
   "id": "9fa31d8d",
   "metadata": {},
   "source": [
    "For two points $(x_1,y_1)$ and $(x_2,y_2)$ we can calculate that $a = [-(y_2 - y_1), x_2 - x_1]$. Then we calculate $b$ as $b = a^T \\cdot[x_1,y_1]$. At the end we are finding in wchich side should be inequality."
   ]
  },
  {
   "cell_type": "code",
   "execution_count": 1,
   "id": "d3687980",
   "metadata": {},
   "outputs": [],
   "source": [
    "from gurobipy import Model, GRB\n",
    "import gurobipy as gp\n",
    "import numpy as np\n",
    "\n",
    "\n",
    "vertices = [(0, 0), (2, 0), (2/3, 2 + 2/3), (-4/3, 2/3)]\n",
    "n = len(vertices)\n",
    "A = np.zeros((n, 2))\n",
    "B = np.zeros(n)\n",
    "\n",
    "for i in range(n):\n",
    "    x_diff = vertices[(i + 1) % n][0] - vertices[i][0]\n",
    "    y_diff = vertices[(i + 1) % n][1] - vertices[i][1]\n",
    "    \n",
    "    a_i = np.array([-y_diff, x_diff])\n",
    "    b_i = np.dot(a_i, vertices[i])\n",
    "\n",
    "    # Decide which side of inequality\n",
    "    if np.dot(a_i, vertices[(i + 2) % n]) >= b_i:\n",
    "        a_i, b_i = -a_i, -b_i\n",
    "\n",
    "    A[i] = a_i\n",
    "    B[i] = b_i\n"
   ]
  },
  {
   "cell_type": "code",
   "execution_count": 2,
   "id": "b8a6a605",
   "metadata": {},
   "outputs": [],
   "source": [
    "def chebyshev(dim, A, B):\n",
    "    try:\n",
    "        # Create a new model\n",
    "        m = gp.Model(\"Chebyshev\")\n",
    "\n",
    "        # Create variables\n",
    "        x_center = m.addMVar(shape=dim, name=\"x_center\", lb=-GRB.INFINITY)\n",
    "        r = m.addVar(name=\"r\", lb=0.0)\n",
    "\n",
    "        # Set objective\n",
    "        m.setObjective(r, GRB.MAXIMIZE)\n",
    "\n",
    "        # Build rhs vector\n",
    "        rhs = B\n",
    "\n",
    "        # Add constraints for each row of A\n",
    "        for i in range(A.shape[0]):\n",
    "            m.addConstr(A[i, :] @ x_center + r * np.linalg.norm(A[i, :]) <= rhs[i], name=\"c{}\".format(i))\n",
    "\n",
    "        # Optimize model\n",
    "        m.optimize()\n",
    "\n",
    "        optimal_x = x_center.X\n",
    "        optimal_r = r.X\n",
    "        objective_value = m.ObjVal\n",
    "\n",
    "        return optimal_x, optimal_r, objective_value\n",
    "\n",
    "    except gp.GurobiError as e:\n",
    "        print('Error code ' + str(e.errno) + \": \" + str(e))\n",
    "        return None, None, None\n",
    "\n",
    "    except AttributeError:\n",
    "        print('Encountered an attribute error')\n",
    "        return None, None, None"
   ]
  },
  {
   "cell_type": "code",
   "execution_count": 68,
   "id": "5f7b8a82",
   "metadata": {},
   "outputs": [
    {
     "name": "stdout",
     "output_type": "stream",
     "text": [
      "Gurobi Optimizer version 11.0.1 build v11.0.1rc0 (linux64 - \"Ubuntu 22.04.4 LTS\")\n",
      "\n",
      "CPU model: Intel(R) Core(TM) i5-8265U CPU @ 1.60GHz, instruction set [SSE2|AVX|AVX2]\n",
      "Thread count: 4 physical cores, 8 logical processors, using up to 8 threads\n",
      "\n",
      "Optimize a model with 4 rows, 3 columns and 11 nonzeros\n",
      "Model fingerprint: 0x19595d2d\n",
      "Coefficient statistics:\n",
      "  Matrix range     [7e-01, 3e+00]\n",
      "  Objective range  [1e+00, 1e+00]\n",
      "  Bounds range     [0e+00, 0e+00]\n",
      "  RHS range        [4e+00, 5e+00]\n",
      "Presolve removed 4 rows and 3 columns\n",
      "Presolve time: 0.00s\n",
      "Presolve: All rows and columns removed\n",
      "Iteration    Objective       Primal Inf.    Dual Inf.      Time\n",
      "       0    9.9200259e-01   0.000000e+00   0.000000e+00      0s\n",
      "\n",
      "Solved in 0 iterations and 0.01 seconds (0.00 work units)\n",
      "Optimal objective  9.920025865e-01\n"
     ]
    },
    {
     "data": {
      "image/png": "[encoded data removed]",
      "text/plain": [
       "<Figure size 432x288 with 1 Axes>"
      ]
     },
     "metadata": {
      "needs_background": "light"
     },
     "output_type": "display_data"
    },
    {
     "name": "stdout",
     "output_type": "stream",
     "text": [
      "Circle at the point (x,y) = [0.3949061  0.99200259], and radius equal 0.9920025864696703\n"
     ]
    }
   ],
   "source": [
    "import matplotlib.pyplot as plt\n",
    "xs, ys = zip(*(vertices + [vertices[0]])) #create lists of x and y values\n",
    "\n",
    "plt.figure()\n",
    "plt.axis('equal')\n",
    "plt.fill(xs,ys,facecolor='lightblue', edgecolor='tab:blue', linewidth=1) \n",
    "\n",
    "\n",
    "optimal_x, optimal_r, objective_value = chebyshev(2, A, B)\n",
    "cir=plt.Circle((optimal_x[0], optimal_x[1]), optimal_r, fill=False, edgecolor='tab:red')\n",
    "plt.gca().add_patch(cir)\n",
    "plt.plot(optimal_x[0], optimal_x[1], 'o', color='tab:red')\n",
    "plt.show()\n",
    "print(f\"Circle at the point (x,y) = {optimal_x}, and radius equal {optimal_r}\")"
   ]
  }
 ],
 "metadata": {
  "kernelspec": {
   "display_name": "Python 3 (ipykernel)",
   "language": "python",
   "name": "python3"
  },
  "language_info": {
   "codemirror_mode": {
    "name": "ipython",
    "version": 3
   },
   "file_extension": ".py",
   "mimetype": "text/x-python",
   "name": "python",
   "nbconvert_exporter": "python",
   "pygments_lexer": "ipython3",
   "version": "3.10.12"
  }
 },
 "nbformat": 4,
 "nbformat_minor": 5
}
