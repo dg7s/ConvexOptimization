{
 "cells": [
  {
   "cell_type": "markdown",
   "id": "833fe7ad",
   "metadata": {},
   "source": [
    "# Quasiconvex functions\n",
    "\n",
    "$f:X\\rightarrow\\mathbb{R}$ is *quasiconvex* if $dom(f)$ is convex and all sublevel sets are convex, i.e., for each value $\\alpha\\in\\mathbb{R}$, the set\n",
    "$$S_{\\alpha}=\\{x\\mid f(x)\\le \\alpha\\}$$\n",
    "is convex.\n",
    "\n",
    "$f$ is *quasiconcave* if $-f$ is quasiconvex. If $f$ is both quasiconvex and quasiconcave, then we call $f$ *quasilinear*.\n",
    "\n",
    "Recall that a convex function has convex level sets, hence it is quasiconvex."
   ]
  },
  {
   "cell_type": "markdown",
   "id": "72e192d4",
   "metadata": {},
   "source": [
    "## Exercise 1\n",
    "\n",
    "Show that if $f$ is quasilinear then all its level sets are convex. (For $\\alpha\\in\\mathbb{R}$, the set\n",
    "$S_{\\alpha}=\\{x\\mid f(x)= \\alpha\\}$ is the $\\alpha$ level set.)"
   ]
  },
  {
   "cell_type": "markdown",
   "id": "beece24b",
   "metadata": {},
   "source": [
    "## Exercise 2\n",
    "- characterize quasilinear functions $\\mathbb{R}\\rightarrow\\mathbb{R}$.\n",
    "- $f(x)/g(x)$ is quasiconvex for $f$ nonnegative convex and $g$ positive concave.\n",
    "- $f(x)/g(x)$ is quasiconvex for $f$ convex and $g$ affine."
   ]
  },
  {
   "cell_type": "markdown",
   "id": "9ede3168",
   "metadata": {},
   "source": [
    "## Exercise 3\n",
    "\n",
    "For $x\\in\\mathbb{R}^n$ define *length of $x$* as $f(x)=\\max\\{i\\mid x_i\\ne 0\\}$ for $x\\ne 0$ and $f(0)=0$. Show that $f$ is not convex but it is quasiconvex."
   ]
  },
  {
   "cell_type": "markdown",
   "id": "49902dea",
   "metadata": {},
   "source": [
    "## Exercise 4\n",
    "Is $f(xy)=xy$ for $x,y>0$ convex/concave? Is it quasiconvex/quasiconcave?"
   ]
  },
  {
   "cell_type": "markdown",
   "id": "75766062",
   "metadata": {},
   "source": [
    "## Exercise 5 (quasiconvex Jensen)\n",
    "\n",
    "Prove the following.\n",
    "\n",
    "Let $dom(f)$ be convex.\n",
    "Then, $f$ is quasiconvex iff for all $x,y\\in dom(f)$ and $\\lambda\\in[0,1]$, we have\n",
    "$$f(\\lambda x+ (1-\\lambda)y) \\le \\max\\{f(x),f(y)\\}.$$\n",
    "\n",
    "Similarly, $f$ is quasiconcave iff for all $x,y\\in dom(f)$ and $\\lambda\\in[0,1]$, we have\n",
    "$$f(\\lambda x+ (1-\\lambda)y) \\ge \\min\\{f(x),f(y)\\}.$$"
   ]
  },
  {
   "cell_type": "markdown",
   "id": "cc7a0892",
   "metadata": {},
   "source": [
    "## Exercise 6\n",
    "\n",
    "For $x\\in\\mathbb{R}^n$ define $card(x)=|\\{i\\mid x_i\\ne 0\\}|$. Then $card$ is concave on $\\mathbb{R}_+^n$."
   ]
  },
  {
   "cell_type": "markdown",
   "id": "95aec78e",
   "metadata": {},
   "source": [
    "## Exercise 7\n",
    "A *quasiconvex problem* is minimizing a quasiconvex function over a set of convex constraints. Show that quasiconvex problems can be solved up to arbitrary precision using binary search and solving a number of convex feasibility problems."
   ]
  },
  {
   "cell_type": "markdown",
   "id": "dff7cd7a",
   "metadata": {},
   "source": [
    "## Programming Exercise (minimizing a quasiconvex function)\n",
    "Let's say we want to find a function of the form $$f(t)=\\frac{a_0+ a_1 t + a_2 t^2 }{1+ b_1 t+ b_2 t^2}$$ which approximates $e^t$ on the set $[-3,3]$. To this end, we will find the values of the $a_i$ and $b_i$ coefficients so that they minimize $\\max_{i=1,\\ldots,k} | f(t_i)-y_i|$, where $t_i$ are evenly spaced numbers in $[-3,3]$. We will require that $1+b_1 t_i+ b_2 t_i^2 \\ge \\varepsilon$ for $i=1, \\ldots, k$ and some $\\varepsilon$, say $\\varepsilon=10^{-8}$.\n",
    "\n",
    "Argue that this is a quasiconvex problem, and use Exercise 7 to implement its solution. You can use ```cvxpy``` (or an LP solver of your choice).\n",
    "\n",
    "Hint: ```p = cp.Parameter()``` creates a parameter which you can use in your model. Then, you can solve the same model multiple times with different values of ```p```, changed by ```p.value = ...```.\n",
    "\n",
    "**Note:** In principle ```cvxpy``` can solve a quasiconvex problem for you (also using binary search) if you call ```prob.solve(qcp=True)```. Then, your problem has to be specified as DQCP ([Disciplined Quasiconvex Programming](https://www.cvxpy.org/tutorial/dqcp/index.html)) which is not very convenient for us."
   ]
  },
  {
   "cell_type": "code",
   "execution_count": 42,
   "id": "fdadee03",
   "metadata": {},
   "outputs": [],
   "source": [
    "import numpy as np\n",
    "import cvxpy as cp\n",
    "import math"
   ]
  },
  {
   "cell_type": "code",
   "execution_count": 43,
   "id": "3e9d4920",
   "metadata": {},
   "outputs": [],
   "source": [
    "k = 201\n",
    "t = np.linspace(-3,3,k)\n",
    "y = [math.exp(x) for x in t]"
   ]
  },
  {
   "cell_type": "code",
   "execution_count": 46,
   "id": "cecb586c",
   "metadata": {},
   "outputs": [
    {
     "name": "stdout",
     "output_type": "stream",
     "text": [
      "M value: 0.02272623850127966. Solution is optimal\n"
     ]
    }
   ],
   "source": [
    "M = cp.Parameter(nonneg=True, name='M')\n",
    "\n",
    "a = cp.Variable(3, name='a')\n",
    "b = cp.Variable(2, name='b')\n",
    "\n",
    "constraints = [\n",
    "    a[0] + a[1] * t[i] + a[2] * t[i]**2 <= (M + cp.exp(t[i])) * (1 + b[0] * t[i] + b[1] * t[i]**2) \n",
    "    for i in range(len(t))\n",
    "]\n",
    "constraints += [\n",
    "    a[0] + a[1] * t[i] + a[2] * t[i]**2 >= (cp.exp(t[i]) - M) * (1 + b[0] * t[i] + b[1] * t[i]**2) \n",
    "    for i in range(len(t))\n",
    "]\n",
    "\n",
    "\n",
    "obj = cp.Minimize(0)\n",
    "prob = cp.Problem(obj, constraints)\n",
    "\n",
    "l = 0\n",
    "p = np.exp(3)\n",
    "epsilon = 1e-16\n",
    "\n",
    "\n",
    "while abs(l - p) > epsilon:\n",
    "    M.value = (l + p)/2\n",
    "    prob.solve(verbose=False, solver=cp.GUROBI) \n",
    "    if prob.status == cp.OPTIMAL:\n",
    "        p = (l+p)/2\n",
    "    else:\n",
    "        l = (l+p)/2\n",
    "\n",
    "print(f\"M value: {M.value}. Solution is {cp.OPTIMAL}\")\n"
   ]
  },
  {
   "cell_type": "code",
   "execution_count": 47,
   "id": "41510173",
   "metadata": {},
   "outputs": [
    {
     "data": {
      "text/plain": [
       "[<matplotlib.lines.Line2D at 0x7b7555499690>,\n",
       " <matplotlib.lines.Line2D at 0x7b75554990f0>]"
      ]
     },
     "execution_count": 47,
     "metadata": {},
     "output_type": "execute_result"
    },
    {
     "data": {
      "image/png": "[encoded data removed]",
      "text/plain": [
       "<Figure size 720x432 with 1 Axes>"
      ]
     },
     "metadata": {
      "needs_background": "light"
     },
     "output_type": "display_data"
    }
   ],
   "source": [
    "# here you can see how close is your function\n",
    "import matplotlib.pyplot as plt\n",
    "y2 = [(a[0].value + a[1].value*t[i] + a[2].value*(t[i]**2))/(1+b[0].value*t[i]+b[1].value*(t[i]**2)) for i in range(len(t))]\n",
    "plt.figure(figsize=(10,6))\n",
    "plt.plot(t, y, 'g-', t, y2, 'r-', linewidth=0.5)"
   ]
  }
 ],
 "metadata": {
  "kernelspec": {
   "display_name": "Python 3 (ipykernel)",
   "language": "python",
   "name": "python3"
  },
  "language_info": {
   "codemirror_mode": {
    "name": "ipython",
    "version": 3
   },
   "file_extension": ".py",
   "mimetype": "text/x-python",
   "name": "python",
   "nbconvert_exporter": "python",
   "pygments_lexer": "ipython3",
   "version": "3.10.12"
  }
 },
 "nbformat": 4,
 "nbformat_minor": 5
}
