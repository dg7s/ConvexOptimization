{
 "cells": [
  {
   "cell_type": "markdown",
   "id": "bba60788",
   "metadata": {},
   "source": [
    "# Gradient descent and Newton's method\n",
    "\n",
    "(This exercise originates from S. Boyd's course Convex Optimization)\n",
    "\n",
    "Consider the unconstrained problem\n",
    "  \n",
    "  $$\\begin{array}{ll}minimize\\,\\,\\, f(x) = - \\sum_{i=1}^m \\log(1-a_i^T x)- \\sum_{i=1}^n \\log(1 - x_i^2),\\end{array}$$\n",
    "  \n",
    "  with variable $x \\in \\mathbf{R}^n$, and $\\mathbf{dom} f = \\{x \\;|\\; a_i^Tx \\le 1, ~i=1, \\ldots, m, ~|x_i| \\le 1, ~i=1, \\ldots, n\\}$. This is the problem of computing the analytic center of the set of linear inequalities\n",
    "  \n",
    "  $$a_i^Tx \\leq 1, \\quad i=1, \\ldots, m, \\qquad |x_i|\\leq 1,\\quad i=1, \\ldots, n.$$\n",
    " \n",
    " Note that we can choose $x^{(0)}=0$ as our initial point. You can generate instances of this problem by choosing $a_i$ from some distribution on $\\mathbf{R}^n$.\n",
    " \n",
    "\n",
    "1. Use the gradient descent method to solve the problem. Use backtracking line search (BLS) to choose the step size and a stopping criterion of the form $\\| \\nabla f(x)\\|_2^2 \\leq \\delta$. You need to choose the parameters $\\alpha,\\beta$ of BLS as well as $\\delta$ in a reasonable way. Plot the objective function and step length versus iteration number. (Once you have determined $p^\\star$ to high accuracy, you can also plot $f-p^\\star$ versus iteration.) Experiment with the backtracking parameters $\\alpha$ and $\\beta$ to see their effect on the total number of iterations required. \n",
    "2. Repeat using Newton&#39;s method, again with BLS and this time with a stopping criterion based on the square $\\lambda^2$ of Newton decrement. Produce the plots as for GD. Can you see the sharp distinction between the areas of slow and fast convergence for the Newton&#39;s method?\n",
    "\n",
    "Some notes and tips:\n",
    "* You can find the description of BLS in the slides for the Newton's method lecture. The exact same formulation can be used for GD.\n",
    "* The domain of the objective is not $\\mathbf{R}^n$. So, your BLS needs make sure that the chosen step length results in a point inside the domain (on top of satisfying the standard BLS condition). \n",
    "* You are going to have to find formulas for $\\nabla f(x)$ and $\\nabla^2 f(x)$ by hand using chain rule. If you really want to, you can use pytorch (or other similar tools) for this task, but it is probably not worth it. The GD code and the Newton code has to be your own.\n",
    "* In the Newton's algorithm do not invert the Hessian, use ``numpy.linalg.solve`` (or other linear system solver) instead."
   ]
  },
  {
   "cell_type": "markdown",
   "id": "f42f6ddb",
   "metadata": {},
   "source": [
    "### Formulas for  $\\nabla f(x)$ and $\\nabla^2 f(x)$\n",
    "\n",
    "$$\\nabla f(x) = \\left( \\frac{2x_j}{(1-x_j^2)} + \\sum_{i = 0}^{m}\\frac{a_{ij}}{1-a_i^T x} \\right)_{j=1}^n$$\n",
    "\n",
    "$$\n",
    "\\displaystyle \\nabla^2 f(x) = \\left( h_{ij} \\right)_{i,j\\in\\{1,\\ldots,n\\}} \\text{ for } h_{ij} = \\begin{cases}\n",
    "\\displaystyle \\sum_{k=0}^{m}\\frac{a_{ki}a_{kj}}{(1-a_k^Tx)^2},& \\text{if } i \\neq j\\\\\n",
    "\\displaystyle 2\\frac{1+x_i^2}{(1-x_i^2)^2} + \\sum_{k=0}^{m}\\frac{a_{ki}^2}{(1-a_k^Tx)^2}, & \\text{if } i = j\\\\\n",
    "\\end{cases}\n",
    "$$\n"
   ]
  },
  {
   "cell_type": "markdown",
   "id": "bf201112",
   "metadata": {},
   "source": [
    "## Gradient descent\n",
    "### Parameters $\\alpha, \\beta$ and $\\delta$\n",
    "\n",
    "I've tested all combinations for $\\alpha \\in \\{0.01, 0.1, 0.3, 0.9\\}$ and $\\beta \\in \\{0.1, 0.45, 0.9\\}$. I've decided to set $\\delta = 10^{-6}$, so the number of iterations in all cases will be smaller than $1000$.\n",
    "\n",
    "<table>\n",
    "  <tr>\n",
    "    <td>alpha \\ beta</td>\n",
    "    <td>0.1</td>\n",
    "    <td>0.45</td>\n",
    "    <td>0.9</td>\n",
    "  </tr>\n",
    "  <tr>\n",
    "    <td>0.01</td>\n",
    "    <td>15</td>\n",
    "    <td>21</td>\n",
    "    <td>118</td>\n",
    "  </tr>\n",
    "  <tr>\n",
    "    <td>0.15</td>\n",
    "    <td>17</td>\n",
    "    <td>19</td>\n",
    "    <td>75</td>\n",
    "  </tr>\n",
    "  <tr>\n",
    "    <td>0.3</td>\n",
    "    <td>17</td>\n",
    "    <td>15</td>\n",
    "    <td>17</td>\n",
    "  </tr>\n",
    "    <tr>\n",
    "    <td>0.9</td>\n",
    "    <td>247</td>\n",
    "    <td>135</td>\n",
    "    <td>100</td>\n",
    "  </tr>\n",
    "</table>"
   ]
  },
  {
   "cell_type": "code",
   "execution_count": 1,
   "id": "b9688ab6",
   "metadata": {},
   "outputs": [],
   "source": [
    "import numpy as np\n",
    "import matplotlib.pyplot as plt\n",
    "\n",
    "n, m = 200, 300\n",
    "A = np.random.rand(m, n)"
   ]
  },
  {
   "cell_type": "code",
   "execution_count": 2,
   "id": "a5202a2e",
   "metadata": {},
   "outputs": [],
   "source": [
    "def objective_function(x, A):\n",
    "    return -np.sum(np.log(1 - A @ x)) -  np.sum(np.log(1 - np.square(x)))\n",
    "\n",
    "def gradient(x, A):\n",
    "    return 2*x / (1 - np.square(x)) + np.sum(A.T / (1 - A @ x), axis=1)\n",
    "\n",
    "def hessian(x,A):\n",
    "    return A.T @ np.diag((1.0 / (1- A @ x))**2) @ A + np.diag(2 * (1 + x**2) / (1 - x**2)**2)"
   ]
  },
  {
   "cell_type": "code",
   "execution_count": 3,
   "id": "4cb303c9",
   "metadata": {},
   "outputs": [],
   "source": [
    "def bls(x, alpha, beta, delta_x, A):\n",
    "    nu = 1\n",
    "    f_value = objective_function(x,A)\n",
    "    f_gradient = gradient(x,A)\n",
    "\n",
    "    # At first we will ensure that we stay in our domain\n",
    "    while np.max(A@(x + nu * delta_x)) > 1 or np.max(np.abs(x + nu * delta_x)) > 1:\n",
    "       nu = beta*nu\n",
    "\n",
    "    # BLS alghorithm\n",
    "    while objective_function(x + nu * delta_x, A) > f_value + alpha * nu * np.dot(f_gradient, delta_x):\n",
    "        nu = beta*nu\n",
    "\n",
    "    return nu"
   ]
  },
  {
   "cell_type": "code",
   "execution_count": 38,
   "id": "7f74f2de",
   "metadata": {},
   "outputs": [],
   "source": [
    "alpha = 0.3\n",
    "beta = 0.45"
   ]
  },
  {
   "cell_type": "code",
   "execution_count": 39,
   "id": "a4797289",
   "metadata": {},
   "outputs": [],
   "source": [
    "def gradient_descent(max_iter=1000, delta=1e-6):\n",
    "    vals = []\n",
    "    steps = []\n",
    "    x = np.zeros(n)\n",
    "    for i in range(max_iter):\n",
    "        f_gradient = gradient(x,A)\n",
    "\n",
    "        # Stopping criterion\n",
    "        if np.linalg.norm(f_gradient) < delta:\n",
    "            break\n",
    "        \n",
    "        nu = bls(x,alpha, beta, -f_gradient, A)\n",
    "        vals.append(objective_function(x,A))\n",
    "        steps.append(nu)\n",
    "        x = x - nu * f_gradient\n",
    "    print(f\"Number of iterations: {i} with f(x) = {objective_function(x,A)}\\n\")\n",
    "\n",
    "    optval = vals[-1]\n",
    "\n",
    "    plt.figure(figsize=(18, 5))\n",
    "\n",
    "    plt.subplot(1, 3, 1)\n",
    "    plt.plot(range(len(vals) - 1), np.array(vals[0:-1]), linestyle='--')\n",
    "    plt.xlabel('Iteration number')\n",
    "    plt.ylabel('f(x)')\n",
    "\n",
    "    plt.subplot(1, 3, 2)\n",
    "    plt.semilogy(range(len(vals) - 1), np.array(vals[0:-1]) - optval, linestyle='--')\n",
    "    plt.xlabel('Iteration number')\n",
    "    plt.ylabel('Step lenght')\n",
    "\n",
    "    plt.ylabel('f(x) - p*')\n",
    "\n",
    "    plt.subplot(1, 3, 3)\n",
    "    plt.plot(range(len(steps)), steps, linestyle='--', marker='o')\n",
    "    plt.xlabel('Iteration number')\n",
    "    plt.ylabel('Step lenght')\n",
    "\n",
    "    plt.tight_layout()\n",
    "    plt.show()\n",
    "    return x"
   ]
  },
  {
   "cell_type": "code",
   "execution_count": 40,
   "id": "4d3f7800",
   "metadata": {},
   "outputs": [
    {
     "name": "stdout",
     "output_type": "stream",
     "text": [
      "Number of iterations: 15 with f(x) = -1147.3938282116956\n",
      "\n"
     ]
    },
    {
     "data": {
      "image/png": "[encoded data removed]",
      "text/plain": [
       "<Figure size 1296x360 with 3 Axes>"
      ]
     },
     "metadata": {
      "needs_background": "light"
     },
     "output_type": "display_data"
    },
    {
     "data": {
      "text/plain": [
       "array([-0.65081319, -0.64339411, -0.65376536, -0.64635994, -0.6625436 ,\n",
       "       -0.62909494, -0.65054751, -0.65833019, -0.66255167, -0.63986114,\n",
       "       -0.65326432, -0.66223413, -0.64195775, -0.67550369, -0.64360966,\n",
       "       -0.65222643, -0.65926595, -0.64959446, -0.65179955, -0.65657204,\n",
       "       -0.63880069, -0.65136947, -0.64775974, -0.6519197 , -0.65222902,\n",
       "       -0.64808179, -0.65961341, -0.65173771, -0.64859754, -0.64876248,\n",
       "       -0.66338921, -0.65735702, -0.66624607, -0.65242034, -0.64985708,\n",
       "       -0.66034102, -0.66382837, -0.65395019, -0.67171804, -0.64442908,\n",
       "       -0.64389794, -0.65007012, -0.63706276, -0.65544871, -0.65176242,\n",
       "       -0.64124723, -0.64856618, -0.6649385 , -0.64777035, -0.66328833,\n",
       "       -0.65290144, -0.65680138, -0.65596648, -0.66397856, -0.65721354,\n",
       "       -0.65151471, -0.64093989, -0.66244257, -0.6479258 , -0.64242564,\n",
       "       -0.65319765, -0.66114784, -0.65600616, -0.63978984, -0.66326632,\n",
       "       -0.65369625, -0.63834713, -0.64298597, -0.64358614, -0.65198456,\n",
       "       -0.63706894, -0.65050796, -0.65279589, -0.65081506, -0.63842051,\n",
       "       -0.66258634, -0.65622427, -0.65383205, -0.66857293, -0.65727519,\n",
       "       -0.66970739, -0.64219249, -0.65621421, -0.66135055, -0.66345947,\n",
       "       -0.63875605, -0.65422563, -0.65998066, -0.64873788, -0.65691574,\n",
       "       -0.65503955, -0.64645066, -0.63582859, -0.65298441, -0.65182167,\n",
       "       -0.64292469, -0.64639667, -0.6553615 , -0.67487524, -0.65562365,\n",
       "       -0.65883759, -0.64786456, -0.64575066, -0.62793631, -0.64498686,\n",
       "       -0.63840519, -0.65348003, -0.64491398, -0.63608591, -0.645144  ,\n",
       "       -0.65946195, -0.65607656, -0.63769582, -0.66889304, -0.64556806,\n",
       "       -0.64546226, -0.64263881, -0.6436464 , -0.64535127, -0.66459319,\n",
       "       -0.65035882, -0.65918243, -0.65022337, -0.65929195, -0.655055  ,\n",
       "       -0.64395817, -0.64008548, -0.6607885 , -0.65663543, -0.66066748,\n",
       "       -0.62986916, -0.65030254, -0.64357249, -0.66210088, -0.64245286,\n",
       "       -0.6370947 , -0.66090668, -0.65366128, -0.66712161, -0.65758238,\n",
       "       -0.65181244, -0.65204102, -0.65416723, -0.64923514, -0.65078176,\n",
       "       -0.65112623, -0.64857609, -0.64018946, -0.64784561, -0.6319125 ,\n",
       "       -0.63409907, -0.64419959, -0.64614882, -0.65008119, -0.65000315,\n",
       "       -0.66529366, -0.64114725, -0.62808253, -0.65823722, -0.664978  ,\n",
       "       -0.64630688, -0.65493781, -0.6486583 , -0.65015766, -0.65584456,\n",
       "       -0.65904316, -0.65829589, -0.65036846, -0.65669924, -0.65690594,\n",
       "       -0.65959045, -0.65951042, -0.6425223 , -0.6657982 , -0.65459194,\n",
       "       -0.65687963, -0.63839453, -0.64369644, -0.65789457, -0.65523121,\n",
       "       -0.65817209, -0.64272647, -0.66179052, -0.65531083, -0.64861661,\n",
       "       -0.6472098 , -0.66455654, -0.64509928, -0.64225007, -0.6461079 ,\n",
       "       -0.65971442, -0.65839806, -0.65897147, -0.66028118, -0.63681501,\n",
       "       -0.64226905, -0.65045744, -0.64729375, -0.6555695 , -0.64155415])"
      ]
     },
     "execution_count": 40,
     "metadata": {},
     "output_type": "execute_result"
    }
   ],
   "source": [
    "gradient_descent()"
   ]
  },
  {
   "cell_type": "markdown",
   "id": "4f16a7fc",
   "metadata": {},
   "source": [
    "## Newton's method\n",
    "### Parameters $\\alpha, \\beta$ and $\\delta$\n",
    "form\n",
    "I've tested all combinations for $\\alpha \\in \\{0.01, 0.1, 0.3, 0.9\\}$ and $\\beta \\in \\{0.1, 0.45, 0.9\\}$. I've decided to set $\\delta = 10^{-10}$  for similar reasons as before.\n",
    "\n",
    "<table>\n",
    "  <tr>\n",
    "    <td>alpha \\ beta</td>\n",
    "    <td>0.1</td>\n",
    "    <td>0.45</td>\n",
    "    <td>0.9</td>\n",
    "  </tr>\n",
    "  <tr>\n",
    "    <td>0.01</td>\n",
    "    <td>9</td>\n",
    "    <td>9</td>\n",
    "    <td>9</td>\n",
    "  </tr>\n",
    "  <tr>\n",
    "    <td>0.15</td>\n",
    "    <td>9</td>\n",
    "    <td>9</td>\n",
    "    <td>9</td>\n",
    "  </tr>\n",
    "  <tr>\n",
    "    <td>0.3</td>\n",
    "    <td>9</td>\n",
    "    <td>9</td>\n",
    "    <td>9</td>\n",
    "  </tr>\n",
    "    <tr>\n",
    "    <td>0.9</td>\n",
    "    <td>174</td>\n",
    "    <td>161</td>\n",
    "    <td>88</td>\n",
    "  </tr>\n",
    "</table>"
   ]
  },
  {
   "cell_type": "code",
   "execution_count": 76,
   "id": "dd9d70d9",
   "metadata": {},
   "outputs": [],
   "source": [
    "alpha = 0.01\n",
    "beta = 0.9"
   ]
  },
  {
   "cell_type": "code",
   "execution_count": 77,
   "id": "6bcc80a4",
   "metadata": {},
   "outputs": [],
   "source": [
    "def newtons_method(max_iter=1000, delta=1e-10):\n",
    "    vals_newton = []\n",
    "    steps_newton = []\n",
    "    x = np.zeros(n)\n",
    "    for i in range(max_iter):\n",
    "        f_gradient = gradient(x,A)\n",
    "        delta_x = np.linalg.solve(hessian(x,A), f_gradient)\n",
    "\n",
    "        # Stopping criterion lambda^2 < delta\n",
    "        if f_gradient.T @ delta_x < delta:\n",
    "            break\n",
    "\n",
    "        nu = bls(x,alpha, beta, -delta_x, A)\n",
    "        vals_newton.append(objective_function(x,A))\n",
    "        steps_newton.append(nu)\n",
    "        x = x - nu * delta_x\n",
    "    print(f\"Last iteration: {i} with f(x) = {objective_function(x,A)}\\n\")\n",
    "\n",
    "    optval = vals_newton[-1]\n",
    "\n",
    "    plt.figure(figsize=(18,5))\n",
    "\n",
    "    plt.subplot(1, 3, 1)\n",
    "    plt.plot(range(len(vals_newton) - 1), np.array(vals_newton[0:-1]), linestyle='--')\n",
    "    plt.xlabel('Iteration number')\n",
    "    plt.ylabel('f(x)')\n",
    "\n",
    "    plt.subplot(1, 3, 2)\n",
    "    plt.semilogy(range(len(vals_newton) - 1), np.array(vals_newton[0:-1]) - optval, linestyle='--')\n",
    "    plt.xlabel('Iteration number')\n",
    "    plt.ylabel('f(x) - p*')\n",
    "\n",
    "    plt.subplot(1, 3, 3)\n",
    "    plt.plot(range(len(steps_newton)), steps_newton, linestyle='--', marker='o')\n",
    "    plt.xlabel('Iteration number')\n",
    "    plt.ylabel('Step lenght')\n",
    "\n",
    "    plt.show()\n",
    "    return x"
   ]
  },
  {
   "cell_type": "code",
   "execution_count": 78,
   "id": "c3f49822",
   "metadata": {},
   "outputs": [
    {
     "name": "stdout",
     "output_type": "stream",
     "text": [
      "Last iteration: 9 with f(x) = -1147.3938282116953\n",
      "\n"
     ]
    },
    {
     "data": {
      "image/png": "[encoded data removed]",
      "text/plain": [
       "<Figure size 1296x360 with 3 Axes>"
      ]
     },
     "metadata": {
      "needs_background": "light"
     },
     "output_type": "display_data"
    },
    {
     "data": {
      "text/plain": [
       "array([-0.6508132 , -0.64339413, -0.65376537, -0.64635995, -0.66254361,\n",
       "       -0.62909495, -0.65054752, -0.6583302 , -0.66255168, -0.63986115,\n",
       "       -0.65326432, -0.66223413, -0.64195776, -0.67550369, -0.64360967,\n",
       "       -0.65222644, -0.65926596, -0.64959447, -0.65179956, -0.65657204,\n",
       "       -0.63880071, -0.65136948, -0.64775975, -0.65191971, -0.65222903,\n",
       "       -0.6480818 , -0.65961341, -0.65173772, -0.64859755, -0.64876249,\n",
       "       -0.66338922, -0.65735703, -0.66624607, -0.65242035, -0.64985709,\n",
       "       -0.66034102, -0.66382837, -0.65395019, -0.67171804, -0.64442909,\n",
       "       -0.64389796, -0.65007013, -0.63706277, -0.65544872, -0.65176243,\n",
       "       -0.64124724, -0.64856619, -0.6649385 , -0.64777036, -0.66328834,\n",
       "       -0.65290145, -0.65680139, -0.65596649, -0.66397857, -0.65721354,\n",
       "       -0.65151472, -0.6409399 , -0.66244257, -0.64792581, -0.64242565,\n",
       "       -0.65319765, -0.66114785, -0.65600618, -0.63978986, -0.66326632,\n",
       "       -0.65369626, -0.63834715, -0.64298598, -0.64358615, -0.65198457,\n",
       "       -0.63706895, -0.65050796, -0.6527959 , -0.65081507, -0.63842052,\n",
       "       -0.66258634, -0.65622427, -0.65383206, -0.66857293, -0.6572752 ,\n",
       "       -0.66970739, -0.6421925 , -0.65621421, -0.66135055, -0.66345948,\n",
       "       -0.63875607, -0.65422564, -0.65998066, -0.64873789, -0.65691575,\n",
       "       -0.65503956, -0.64645067, -0.63582861, -0.65298441, -0.65182167,\n",
       "       -0.64292471, -0.64639668, -0.65536152, -0.67487523, -0.65562365,\n",
       "       -0.65883759, -0.64786457, -0.64575067, -0.62793632, -0.64498687,\n",
       "       -0.6384052 , -0.65348003, -0.64491399, -0.63608592, -0.64514401,\n",
       "       -0.65946195, -0.65607657, -0.63769583, -0.66889304, -0.64556808,\n",
       "       -0.64546227, -0.64263882, -0.64364641, -0.64535129, -0.66459319,\n",
       "       -0.65035883, -0.65918244, -0.65022339, -0.65929196, -0.65505501,\n",
       "       -0.64395817, -0.6400855 , -0.6607885 , -0.65663543, -0.66066749,\n",
       "       -0.62986917, -0.65030255, -0.6435725 , -0.66210088, -0.64245287,\n",
       "       -0.63709471, -0.66090668, -0.65366129, -0.66712161, -0.65758239,\n",
       "       -0.65181245, -0.65204103, -0.65416724, -0.64923516, -0.65078177,\n",
       "       -0.65112624, -0.64857611, -0.64018946, -0.64784562, -0.63191251,\n",
       "       -0.63409908, -0.64419961, -0.64614883, -0.6500812 , -0.65000316,\n",
       "       -0.66529366, -0.64114726, -0.62808253, -0.65823722, -0.664978  ,\n",
       "       -0.64630689, -0.65493782, -0.64865831, -0.65015767, -0.65584457,\n",
       "       -0.65904316, -0.6582959 , -0.65036847, -0.65669925, -0.65690595,\n",
       "       -0.65959045, -0.65951043, -0.64252231, -0.6657982 , -0.65459195,\n",
       "       -0.65687964, -0.63839455, -0.64369645, -0.65789458, -0.65523122,\n",
       "       -0.65817209, -0.64272649, -0.66179052, -0.65531084, -0.64861662,\n",
       "       -0.64720981, -0.66455654, -0.6450993 , -0.64225008, -0.64610792,\n",
       "       -0.65971442, -0.65839807, -0.65897148, -0.66028118, -0.63681503,\n",
       "       -0.64226906, -0.65045745, -0.64729376, -0.6555695 , -0.64155417])"
      ]
     },
     "execution_count": 78,
     "metadata": {},
     "output_type": "execute_result"
    }
   ],
   "source": [
    "newtons_method()"
   ]
  },
  {
   "cell_type": "markdown",
   "id": "05d7df30",
   "metadata": {},
   "source": [
    "### Conclusion on Convergence Behavior of Newton's Algorithm\n",
    "\n",
    "In the middle plot (Logarithmic Scale of $(f-p^\\star)$ vs. Iteration Number), the decrease in $(f-p^\\star)$ during the initial iterations (0 to 3) is relatively gradual, indicating a slow convergence phase. Starting around iteration 4, there is a noticeable change in the slope, with a rapid decrease in $(f-p^\\star)$. This signifies a transition to the fast convergence phase.\n",
    "\n",
    "Moreover, the step length being consistently equal to $1$ suggests that the algorithm is likely in the pure Newton phase."
   ]
  }
 ],
 "metadata": {
  "kernelspec": {
   "display_name": "Python 3 (ipykernel)",
   "language": "python",
   "name": "python3"
  },
  "language_info": {
   "codemirror_mode": {
    "name": "ipython",
    "version": 3
   },
   "file_extension": ".py",
   "mimetype": "text/x-python",
   "name": "python",
   "nbconvert_exporter": "python",
   "pygments_lexer": "ipython3",
   "version": "3.10.12"
  }
 },
 "nbformat": 4,
 "nbformat_minor": 5
}
